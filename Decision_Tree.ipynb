{
  "nbformat": 4,
  "nbformat_minor": 0,
  "metadata": {
    "colab": {
      "name": "Decision Tree.ipynb",
      "provenance": [],
      "collapsed_sections": []
    },
    "kernelspec": {
      "name": "python3",
      "display_name": "Python 3"
    },
    "accelerator": "GPU"
  },
  "cells": [
    {
      "cell_type": "markdown",
      "metadata": {
        "id": "zqAnOYcIrEz3",
        "colab_type": "text"
      },
      "source": [
        "#Decision Tree from Scratch"
      ]
    },
    {
      "cell_type": "code",
      "metadata": {
        "id": "2n_uQalYq-E0",
        "colab_type": "code",
        "colab": {
          "base_uri": "https://localhost:8080/",
          "height": 249
        },
        "outputId": "109ac407-4eb9-4aa0-a132-8eff9c746c43"
      },
      "source": [
        "# loading the dataset from previous NB template\n",
        "import pandas as pd\n",
        "import numpy as np\n",
        "import random\n",
        "import matplotlib.pyplot as plt \n",
        "import seaborn as sns\n",
        "import math\n",
        "iris = sns.load_dataset('iris')\n",
        "\n",
        "iris.head()"
      ],
      "execution_count": 1,
      "outputs": [
        {
          "output_type": "stream",
          "text": [
            "/usr/local/lib/python3.6/dist-packages/statsmodels/tools/_testing.py:19: FutureWarning: pandas.util.testing is deprecated. Use the functions in the public API at pandas.testing instead.\n",
            "  import pandas.util.testing as tm\n"
          ],
          "name": "stderr"
        },
        {
          "output_type": "execute_result",
          "data": {
            "text/html": [
              "<div>\n",
              "<style scoped>\n",
              "    .dataframe tbody tr th:only-of-type {\n",
              "        vertical-align: middle;\n",
              "    }\n",
              "\n",
              "    .dataframe tbody tr th {\n",
              "        vertical-align: top;\n",
              "    }\n",
              "\n",
              "    .dataframe thead th {\n",
              "        text-align: right;\n",
              "    }\n",
              "</style>\n",
              "<table border=\"1\" class=\"dataframe\">\n",
              "  <thead>\n",
              "    <tr style=\"text-align: right;\">\n",
              "      <th></th>\n",
              "      <th>sepal_length</th>\n",
              "      <th>sepal_width</th>\n",
              "      <th>petal_length</th>\n",
              "      <th>petal_width</th>\n",
              "      <th>species</th>\n",
              "    </tr>\n",
              "  </thead>\n",
              "  <tbody>\n",
              "    <tr>\n",
              "      <th>0</th>\n",
              "      <td>5.1</td>\n",
              "      <td>3.5</td>\n",
              "      <td>1.4</td>\n",
              "      <td>0.2</td>\n",
              "      <td>setosa</td>\n",
              "    </tr>\n",
              "    <tr>\n",
              "      <th>1</th>\n",
              "      <td>4.9</td>\n",
              "      <td>3.0</td>\n",
              "      <td>1.4</td>\n",
              "      <td>0.2</td>\n",
              "      <td>setosa</td>\n",
              "    </tr>\n",
              "    <tr>\n",
              "      <th>2</th>\n",
              "      <td>4.7</td>\n",
              "      <td>3.2</td>\n",
              "      <td>1.3</td>\n",
              "      <td>0.2</td>\n",
              "      <td>setosa</td>\n",
              "    </tr>\n",
              "    <tr>\n",
              "      <th>3</th>\n",
              "      <td>4.6</td>\n",
              "      <td>3.1</td>\n",
              "      <td>1.5</td>\n",
              "      <td>0.2</td>\n",
              "      <td>setosa</td>\n",
              "    </tr>\n",
              "    <tr>\n",
              "      <th>4</th>\n",
              "      <td>5.0</td>\n",
              "      <td>3.6</td>\n",
              "      <td>1.4</td>\n",
              "      <td>0.2</td>\n",
              "      <td>setosa</td>\n",
              "    </tr>\n",
              "  </tbody>\n",
              "</table>\n",
              "</div>"
            ],
            "text/plain": [
              "   sepal_length  sepal_width  petal_length  petal_width species\n",
              "0           5.1          3.5           1.4          0.2  setosa\n",
              "1           4.9          3.0           1.4          0.2  setosa\n",
              "2           4.7          3.2           1.3          0.2  setosa\n",
              "3           4.6          3.1           1.5          0.2  setosa\n",
              "4           5.0          3.6           1.4          0.2  setosa"
            ]
          },
          "metadata": {
            "tags": []
          },
          "execution_count": 1
        }
      ]
    },
    {
      "cell_type": "code",
      "metadata": {
        "id": "v3StkMwQixNw",
        "colab_type": "code",
        "colab": {
          "base_uri": "https://localhost:8080/",
          "height": 218
        },
        "outputId": "d558fb63-372d-4c79-a075-37d749926f44"
      },
      "source": [
        "iris.info()"
      ],
      "execution_count": 2,
      "outputs": [
        {
          "output_type": "stream",
          "text": [
            "<class 'pandas.core.frame.DataFrame'>\n",
            "RangeIndex: 150 entries, 0 to 149\n",
            "Data columns (total 5 columns):\n",
            " #   Column        Non-Null Count  Dtype  \n",
            "---  ------        --------------  -----  \n",
            " 0   sepal_length  150 non-null    float64\n",
            " 1   sepal_width   150 non-null    float64\n",
            " 2   petal_length  150 non-null    float64\n",
            " 3   petal_width   150 non-null    float64\n",
            " 4   species       150 non-null    object \n",
            "dtypes: float64(4), object(1)\n",
            "memory usage: 6.0+ KB\n"
          ],
          "name": "stdout"
        }
      ]
    },
    {
      "cell_type": "code",
      "metadata": {
        "id": "gJ1fGRK5_bdJ",
        "colab_type": "code",
        "colab": {}
      },
      "source": [
        "# To keep it simple we convert the dataset of three classes into two classes. \n",
        "\n",
        "k=iris.groupby('species')\n",
        "trn=pd.DataFrame()\n",
        "tst=pd.DataFrame()\n",
        "p=0\n",
        "for g,i in k:\n",
        "  if g!='setosa':\n",
        "    trn=trn.append(i[:-10],ignore_index=True)\n",
        "    tst=tst.append(i[-10:],ignore_index=True)"
      ],
      "execution_count": null,
      "outputs": []
    },
    {
      "cell_type": "code",
      "metadata": {
        "id": "6z9CTZTdoV1F",
        "colab_type": "code",
        "colab": {
          "base_uri": "https://localhost:8080/",
          "height": 67
        },
        "outputId": "9322f93e-a8e9-4335-a3c0-8c7583f0c120"
      },
      "source": [
        "trn.columns"
      ],
      "execution_count": null,
      "outputs": [
        {
          "output_type": "execute_result",
          "data": {
            "text/plain": [
              "Index(['sepal_length', 'sepal_width', 'petal_length', 'petal_width',\n",
              "       'species'],\n",
              "      dtype='object')"
            ]
          },
          "metadata": {
            "tags": []
          },
          "execution_count": 4
        }
      ]
    },
    {
      "cell_type": "markdown",
      "metadata": {
        "id": "MSJAA0ONFJHr",
        "colab_type": "text"
      },
      "source": [
        "As the features are continuous we need to convert it to categorical."
      ]
    },
    {
      "cell_type": "markdown",
      "metadata": {
        "id": "-Ja3owwXjniE",
        "colab_type": "text"
      },
      "source": [
        "***Steps followed to build a decision tree algorithm*** \n",
        "1. If the data is continuous we need to convert it into categorical.\n",
        "2. Apply the gini index or change in entropy. Here we used gini index as there were 2 classes.\n",
        "3. Create a decision tree which is our aim in this algorithm.\n",
        "4. Once we finished creating tree we can test it and calculate the accuracy.\n",
        "   "
      ]
    },
    {
      "cell_type": "code",
      "metadata": {
        "id": "_N67XhLHTvmb",
        "colab_type": "code",
        "colab": {}
      },
      "source": [
        "# Create a node and these are the information stored in node\n",
        "\n",
        "class Node():\n",
        "  def __init__(self):\n",
        "    self.Parent=None\n",
        "    self.left=None\n",
        "    self.right= None\n",
        "    self.cls=None\n",
        "    self.attr=None\n",
        "\n",
        "# Create a linked list just to link the root node\n",
        "\n",
        "class List():\n",
        "  def __init__(self):\n",
        "    self.head=None\n"
      ],
      "execution_count": null,
      "outputs": []
    },
    {
      "cell_type": "code",
      "metadata": {
        "id": "7aWBLoTn_6t4",
        "colab_type": "code",
        "colab": {}
      },
      "source": [
        "#Creating ctual solution tree\n",
        "\n",
        "\n",
        "class Tree():\n",
        "  def __init__(self,trainx,trainy,testx,testy,continuous=False):\n",
        "    self.trainx=trainx\n",
        "    self.trainy=trainy\n",
        "    self.testx=testx\n",
        "    self.testy=testy\n",
        "    self.nodes=[]\n",
        "    self.attributes=list(self.trainx.columns)[:len(self.trainx.columns)-1]\n",
        "    #self.node=[Node() for i in range(2*len(self.attributes))]\n",
        "    self.node=[Node()]\n",
        "    self.lst=List()\n",
        "    self.lst.head=self.node[0]\n",
        "    if continuous:\n",
        "      self.dftr=self.preparing()\n",
        "      self.dfts=self.preptst()\n",
        "      #self.df.append(self.train_prep)\n",
        "\n",
        "\n",
        "# The functions preptst/preparing, cat and split point converts the continuous data into categorical data.\n",
        "# Here preptest is for test dataset and preparing is for training dataset. \n",
        "\n",
        "\n",
        "\n",
        "  def preptst(self):\n",
        "    cl=self.testx.columns\n",
        "    g1=self.cat(self.testx[[cl[0],'species']],cl[0])\n",
        "    g2=self.cat(self.testx[[cl[1],'species']],cl[1])\n",
        "    g3=self.cat(self.testx[[cl[2],'species']],cl[2])\n",
        "    g4=self.cat(self.testx[[cl[3],'species']],cl[3])\n",
        "    df=pd.concat([g1,g2,g3,g4,self.testx[cl[4]]],axis=1)\n",
        "    return df\n",
        "\n",
        "\n",
        "  def preparing(self):\n",
        "    cl=self.trainx.columns\n",
        "    g1=self.cat(self.trainx[[cl[0],'species']],cl[0])\n",
        "    g2=self.cat(self.trainx[[cl[1],'species']],cl[1])\n",
        "    g3=self.cat(self.trainx[[cl[2],'species']],cl[2])\n",
        "    g4=self.cat(self.trainx[[cl[3],'species']],cl[3])\n",
        "    df=pd.concat([g1,g2,g3,g4,self.trainx[cl[4]]],axis=1)\n",
        "    return df\n",
        "  \n",
        "  def cat(self,x,a):\n",
        "    N=len(x)\n",
        "    x2=x.sort_values(by=a)\n",
        "    x2=x2.reset_index(drop=True)\n",
        "    tm=x2[a]\n",
        "    d=0.1\n",
        "    a1=tm[0]+d/2\n",
        "    n=int((tm[N-1]-tm[0])/d)\n",
        "    st=[]\n",
        "    for i in range(n):\n",
        "      st.append(a1+d*i)\n",
        "    g=0.5\n",
        "    for s in st:\n",
        "      _=self.split_point(s,x,a)\n",
        "      if _<g:\n",
        "        g=_\n",
        "        p=s\n",
        "    #print(a + 'a1={},span={},p={}'.format(a1,tm[79]-tm[0],p))\n",
        "    x[a]=x[a]>p \n",
        "    return x[a]\n",
        "\n",
        "  \n",
        "  # split point function takes continuous data/ attribute as input and find the point \n",
        "  # at which it can be split to make it categorical \n",
        "\n",
        "  def split_point(self,s,x,a):\n",
        "    N=len(x)\n",
        "    tm1=x[x[a]<=s]\n",
        "    tm2=x[x[a]>s]\n",
        "    q=len(tm1)\n",
        "    b=tm1['species'].value_counts().iloc[0]\n",
        "    c=tm2['species'].value_counts().iloc[0]\n",
        "    #print('q={},b={},c={}'.format(q,b,c))\n",
        "    c1=N-q-c\n",
        "    b1=q-b\n",
        "    #print(b1)\n",
        "    g1= 1-((b/q)**2) -(b1/q)**2\n",
        "    g2= 1-((c/(N-q))**2)-(c1/(N-q))**2\n",
        "    #print('g1={},g2={}'.format(g1,g2))\n",
        "    return (g1+g2)/2\n",
        "\n",
        "\n",
        "\n",
        "  #  Following are steps for writing actual solution algorithm \n",
        "\n",
        "\n",
        "\n",
        "# The gini function takes the attribute and dataframe as input and returns the gini value\n",
        "# if we split the given dataframe by the attribute\n",
        "\n",
        "  def gini(self,attri,df):\n",
        "    gini=[]\n",
        "    class1,class2=df['species'].unique()\n",
        "    for i in attri:\n",
        "      #print('\\n {} \\n'.format(i))\n",
        "      if len(df[i].value_counts())>1:\n",
        "        df1=df[df[i]==True]\n",
        "        df2=df[df[i]==False]\n",
        "        tmp=df['species'].value_counts()\n",
        "        l=len(df)\n",
        "        gini_parent=1-(tmp[class1]/l)**2-(tmp[class2]/l)**2\n",
        "        tmp1=df1['species'].value_counts()\n",
        "        #print('tmp1',tmp1)\n",
        "        tmp2=df2['species'].value_counts()\n",
        "        #print('tmp2',tmp2)\n",
        "        l1=len(df1)\n",
        "        l2=len(df2)\n",
        "        if len(tmp1)==1:\n",
        "          gini_child1=0\n",
        "        else:\n",
        "          gini_child1=(1-(tmp1[class1]/l1)**2-(tmp1[class2]/l1)**2)\n",
        "        if len(tmp2)==1:\n",
        "          gini_child2=0\n",
        "        else:\n",
        "          gini_child2=(1-(tmp2[class1]/l2)**2-(tmp2[class2]/l2)**2)\n",
        "\n",
        "        gini_child=(gini_child1+gini_child2)/2\n",
        "        gain=gini_parent-gini_child\n",
        "        gini.append(gain)\n",
        "      else:\n",
        "        gini.append(0) \n",
        "    return gini\n",
        "\n",
        "\n",
        "# This function build the tree. Creates new node dynamically as tree grows. \n",
        "# Besides all other function this particular function is made somewhat generalized.\n",
        "# i.e for any no of attributes it will create a solution tree  \n",
        "\n",
        "  def create_sol(self):\n",
        "    cnt=0\n",
        "    self.nodes.append(self.node[0])\n",
        "    df=[]\n",
        "    df.append(self.dftr)\n",
        "    while len(df)!=0:\n",
        "      for i in range(2):\n",
        "        self.node.append(Node())\n",
        "      #print(cnt,'\\n')\n",
        "      d=df.pop(0)\n",
        "      #print(d['species'])\n",
        "      #print(d['species'].max())\n",
        "      n=self.nodes.pop(0)\n",
        "      k=len(d['species'].unique())\n",
        "      if k==2:\n",
        "        gini=self.gini(self.attributes,d)\n",
        "      else:\n",
        "        gini=[0,0,0,0]\n",
        "      #print('gini_gain = {}\\n\\n most frequent species:\\n {}'.format(gini,d['species'].value_counts().index[0]))\n",
        "      if max(gini)>0:\n",
        "        #print('in block')\n",
        "        attri=self.attributes[gini.index(max(gini))]\n",
        "        n.attr=attri\n",
        "        df1=d[d[attri]==True]\n",
        "        df2=d[d[attri]==False]\n",
        "        df.append(df1)\n",
        "        df.append(df2)\n",
        "        n.left=self.node[cnt+1]\n",
        "        self.nodes.append(self.node[cnt+1])\n",
        "        n.right=self.node[cnt+2]\n",
        "        self.nodes.append(self.node[cnt+2])\n",
        "      #  self.node[cnt+1].parent=n\n",
        "       # self.node[cnt+2].parent=n\n",
        "        cnt=cnt+2\n",
        "      else:\n",
        "        n.cls=d['species'].value_counts().index[0]\n",
        "\n",
        "\n",
        "# Following function is to calculate the accuracy. Based on the tree builded \n",
        "\n",
        "\n",
        "  def acc(self):\n",
        "    n=len(self.dftr)\n",
        "    t=self.dftr\n",
        "    pr=[]\n",
        "    for i in range(n):\n",
        "      ex=t.iloc[i]\n",
        "      tmp=self.lst.head\n",
        "      cl=tmp.cls\n",
        "      #print('cl out=',cl)\n",
        "      while cl==None:\n",
        "        #print('cl=',cl)\n",
        "        if ex[tmp.attr]==True:\n",
        "          #print('a')\n",
        "          tmp=tmp.left\n",
        "          cl=tmp.cls\n",
        "        elif ex[tmp.attr]==False:\n",
        "          #print('b')\n",
        "          tmp=tmp.right\n",
        "          cl=tmp.cls\n",
        "        else:\n",
        "          print('something went wrong')\n",
        "      pr.append(cl)\n",
        "    \n",
        "    pr=pd.Series(pr)\n",
        "    #print(self.trainy)\n",
        "    #print('pr=\\n',pr)\n",
        "    x=pr==self.trainy\n",
        "    #print('x=',x)\n",
        "\n",
        "    trn_acc=x.value_counts()[True]/len(pr)\n",
        "    \n",
        "\n",
        "    n=len(self.dfts)\n",
        "    t=self.dfts\n",
        "    pr=[]\n",
        "    for i in range(n):\n",
        "      ex=t.iloc[i]\n",
        "      tmp=self.lst.head\n",
        "      cl=tmp.cls\n",
        "      while cl==None:\n",
        "        if ex[tmp.attr]==True:\n",
        "          tmp=tmp.left\n",
        "          cl=tmp.cls\n",
        "        elif ex[tmp.attr]==False:\n",
        "          tmp=tmp.right\n",
        "          cl=tmp.cls\n",
        "        else:\n",
        "          print('something went wrong')\n",
        "      pr.append(cl)\n",
        "    \n",
        "    pr=pd.Series(pr)\n",
        "    x=pr==self.testy\n",
        "    tst_acc=x.value_counts()[True]/len(pr)\n",
        "\n",
        "    print('Training accuracy = {} \\n Test Accuracy = {}'.format(trn_acc*100,tst_acc*100))\n",
        "\n",
        "\n",
        "  "
      ],
      "execution_count": null,
      "outputs": []
    },
    {
      "cell_type": "code",
      "metadata": {
        "id": "N5Xu_fWdIsH6",
        "colab_type": "code",
        "colab": {
          "base_uri": "https://localhost:8080/",
          "height": 121
        },
        "outputId": "f59363a3-b5d7-44c3-b37f-6b4ed7a90a9b"
      },
      "source": [
        "# Initialize the class\n",
        "trny=trn['species']\n",
        "tsty=tst['species']\n",
        "tr=Tree(trn,trny,tst,tsty,True)\n"
      ],
      "execution_count": null,
      "outputs": [
        {
          "output_type": "stream",
          "text": [
            "/usr/local/lib/python3.6/dist-packages/ipykernel_launcher.py:55: SettingWithCopyWarning: \n",
            "A value is trying to be set on a copy of a slice from a DataFrame.\n",
            "Try using .loc[row_indexer,col_indexer] = value instead\n",
            "\n",
            "See the caveats in the documentation: https://pandas.pydata.org/pandas-docs/stable/user_guide/indexing.html#returning-a-view-versus-a-copy\n"
          ],
          "name": "stderr"
        }
      ]
    },
    {
      "cell_type": "code",
      "metadata": {
        "id": "jVJyiDeMSKzr",
        "colab_type": "code",
        "colab": {}
      },
      "source": [
        "# Create the solution tree\n",
        "tr.create_sol()"
      ],
      "execution_count": null,
      "outputs": []
    },
    {
      "cell_type": "code",
      "metadata": {
        "id": "BnNZUGi0XA9j",
        "colab_type": "code",
        "colab": {
          "base_uri": "https://localhost:8080/",
          "height": 50
        },
        "outputId": "c3bae91c-0dec-42d5-9ef1-f9a3f8862327"
      },
      "source": [
        "# Calculate the accuracy\n",
        "tr.acc()"
      ],
      "execution_count": null,
      "outputs": [
        {
          "output_type": "stream",
          "text": [
            "Training accuracy = 93.75 \n",
            " Test Accuracy = 85.0\n"
          ],
          "name": "stdout"
        }
      ]
    },
    {
      "cell_type": "markdown",
      "metadata": {
        "id": "ddiMswRYMaAW",
        "colab_type": "text"
      },
      "source": [
        "#Using Sklearn "
      ]
    },
    {
      "cell_type": "code",
      "metadata": {
        "id": "eZWrZ2vVMcbr",
        "colab_type": "code",
        "colab": {
          "base_uri": "https://localhost:8080/",
          "height": 50
        },
        "outputId": "588cc8e4-f8d8-42dc-85bf-508aead5479d"
      },
      "source": [
        "from sklearn.model_selection import cross_val_score\n",
        "from sklearn.tree import DecisionTreeClassifier\n",
        "clf = DecisionTreeClassifier(random_state=0)\n",
        "cross_val_score(clf, trn[at[0:4]], trny, cv=10)"
      ],
      "execution_count": null,
      "outputs": [
        {
          "output_type": "execute_result",
          "data": {
            "text/plain": [
              "array([1.   , 0.875, 1.   , 1.   , 0.875, 0.875, 0.875, 0.875, 0.875,\n",
              "       0.875])"
            ]
          },
          "metadata": {
            "tags": []
          },
          "execution_count": 61
        }
      ]
    },
    {
      "cell_type": "code",
      "metadata": {
        "id": "KFdzQbFSOHr3",
        "colab_type": "code",
        "colab": {}
      },
      "source": [
        ""
      ],
      "execution_count": null,
      "outputs": []
    }
  ]
}